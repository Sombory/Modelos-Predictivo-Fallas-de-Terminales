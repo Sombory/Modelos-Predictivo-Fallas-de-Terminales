{
 "cells": [
  {
   "cell_type": "code",
   "execution_count": 1,
   "metadata": {},
   "outputs": [],
   "source": [
    "import numpy as np\n",
    "import matplotlib.pyplot as plt\n",
    "import pandas as pd\n",
    "import teradatasql\n",
    "from datetime import timedelta\n",
    "import matplotlib.pyplot as plt\n",
    "import seaborn as sns\n",
    "from datetime import datetime\n",
    "from datetime import date\n",
    "pd.set_option(\"display.max_columns\", None)\n",
    "from xgboost import XGBClassifier\n",
    "from sklearn.preprocessing import LabelEncoder, OneHotEncoder\n",
    "from sklearn.compose import ColumnTransformer"
   ]
  },
  {
   "cell_type": "code",
   "execution_count": 2,
   "metadata": {},
   "outputs": [],
   "source": [
    "pd.pandas.set_option('display.max_columns',None)"
   ]
  },
  {
   "cell_type": "code",
   "execution_count": 3,
   "metadata": {},
   "outputs": [],
   "source": [
    "con = teradatasql.connect(host='XXXX')\n",
    "cur = con.cursor()\n",
    "consulta= cur.execute('select * from DataLake sample 75000 where Clase = 1')\n",
    "des = consulta.description\n",
    "datos = consulta.fetchall()\n",
    "dfa = pd.DataFrame.from_records(datos,columns = [i[0] for i in des])"
   ]
  },
  {
   "cell_type": "code",
   "execution_count": 4,
   "metadata": {},
   "outputs": [],
   "source": [
    "con = teradatasql.connect(host='XX', user='XX', password='XX')\n",
    "cur = con.cursor()\n",
    "consulta= cur.execute('select * from D_cientificos_datos.FT_Input_modelo_V2 sample 75000 where Clase = 0')\n",
    "des = consulta.description\n",
    "datos = consulta.fetchall()\n",
    "dfb = pd.DataFrame.from_records(datos,columns = [i[0] for i in des])"
   ]
  },
  {
   "cell_type": "code",
   "execution_count": 5,
   "metadata": {
    "scrolled": false
   },
   "outputs": [],
   "source": [
    "# unir dos dataframe\n",
    "df=pd.concat([dfa, dfb])"
   ]
  },
  {
   "cell_type": "code",
   "execution_count": 6,
   "metadata": {
    "scrolled": false
   },
   "outputs": [
    {
     "data": {
      "text/plain": [
       "(150000, 94)"
      ]
     },
     "execution_count": 6,
     "metadata": {},
     "output_type": "execute_result"
    }
   ],
   "source": [
    "df.shape"
   ]
  },
  {
   "cell_type": "code",
   "execution_count": 58,
   "metadata": {},
   "outputs": [],
   "source": [
    "# Conexión CSV"
   ]
  },
  {
   "cell_type": "code",
   "execution_count": 12,
   "metadata": {},
   "outputs": [],
   "source": [
    "df.to_csv(\"Modelo_pca.csv\")"
   ]
  },
  {
   "cell_type": "code",
   "execution_count": 13,
   "metadata": {},
   "outputs": [],
   "source": [
    "df1 = df.copy()"
   ]
  },
  {
   "cell_type": "code",
   "execution_count": 14,
   "metadata": {},
   "outputs": [],
   "source": [
    "## Elinimo variables que no funcionan en el modelo"
   ]
  },
  {
   "cell_type": "code",
   "execution_count": 15,
   "metadata": {
    "scrolled": true
   },
   "outputs": [],
   "source": [
    "df1.drop(labels=[\"Nro_Terminal\",\"Q_Dias_hasta_falla\",\"Q_tx_Rech_Ult4D\",\"BonXPL\",\"estado_terminal\",\"Q_tx_Rech_Ult2D\",\"Marca_no_Newland\",\"Adm_Diners\",\"superestado_terminal\",\"BonHos\",\"Adm_American_Express\",\"Operatoria_no_Legacy\"], axis=1, inplace=True)"
   ]
  },
  {
   "cell_type": "markdown",
   "metadata": {},
   "source": [
    "## Elimino Variables poco relevantes"
   ]
  },
  {
   "cell_type": "code",
   "execution_count": 350,
   "metadata": {},
   "outputs": [],
   "source": [
    "#df1.drop(labels=[\"Nro_Terminal\",\"Q_Dias_hasta_falla\",\"Facturacion_sin_descuento\",\"Facturacion_con_descuento\",\"BonHos\",\"BonXPL\",\"Desc_Agrup_Reducida_Rubro_Bain\",\"Desc_Agrupacion_Rubro_Bain\",\"Acepta_liquidacion\",\"cod_plan_Ater\",\"Cod_plan_host\",\"Sub_segmento_corporativo_2\",\"cod_rubro\",\"Localidad\",\"CUIT_VIP\",\"Version_Origen\",\"Marca\",\"Segmento\",\"Q_tx_Rech_Ult15D\",\"Q_tx_Aprob_Ult2D\",\"Prop_Vol_tx_Rech_Ult2D\",\"Vol_tx_Rech_Ult10D\"], axis=1, inplace=True)"
   ]
  },
  {
   "cell_type": "markdown",
   "metadata": {},
   "source": [
    "## Elimino No Numericas"
   ]
  },
  {
   "cell_type": "code",
   "execution_count": 351,
   "metadata": {},
   "outputs": [],
   "source": [
    "#df1.drop(labels=[\"Tipo_inactividad\",\"serv_tecnico\",\"Provincia\",\"tipo_tecnologia\",\"estado_terminal\",\"superestado_terminal\",\"Modelo\",\"Plantilla_Origen\",\"Medio\",\"Condicion_Soft\",\"tipo_recambio\",\"Tipo_Utilidad_Tecnologia\"],axis=1, inplace=True)"
   ]
  },
  {
   "cell_type": "code",
   "execution_count": 352,
   "metadata": {},
   "outputs": [],
   "source": [
    "# Variables poco relevantes\n",
    "# df1.drop(labels=['CUIT_VIP','Adm_Diners','Adm_American_Express','superestado_terminal','Operatoria_no_Legacy','Adm_Posnet','Modelo','Marca_no_Newland','Tipo_inactividad','Prop_Vol_tx_Rech_UltD','Prioridad_por_rubro','Q_tx_Rech_Ult2D','Q_tx_Rech_UltD','Tipo_Utilidad_Tecnologia','cod_rubro','Q_tx_Aprob_Ult3D','estado_terminal','Prop_Vol_tx_Rech_Ult3D','Porcentaje_Bonificacion_Teorico','Q_tx_Rech_Ult15D','Q_tx_Aprob_Ult2D','Prop_Vol_tx_Rech_Ult2D','cod_plan_Ater','Cod_plan_host','Localidad','Vol_tx_Rech_Ult10D','Sub_segmento_corporativo_2'], axis=1, inplace=True)"
   ]
  },
  {
   "cell_type": "code",
   "execution_count": 16,
   "metadata": {
    "scrolled": false
   },
   "outputs": [
    {
     "data": {
      "text/plain": [
       "(150000, 82)"
      ]
     },
     "execution_count": 16,
     "metadata": {},
     "output_type": "execute_result"
    }
   ],
   "source": [
    "df1.shape"
   ]
  },
  {
   "cell_type": "code",
   "execution_count": 17,
   "metadata": {
    "scrolled": true
   },
   "outputs": [
    {
     "data": {
      "text/html": [
       "<div>\n",
       "<style scoped>\n",
       "    .dataframe tbody tr th:only-of-type {\n",
       "        vertical-align: middle;\n",
       "    }\n",
       "\n",
       "    .dataframe tbody tr th {\n",
       "        vertical-align: top;\n",
       "    }\n",
       "\n",
       "    .dataframe thead th {\n",
       "        text-align: right;\n",
       "    }\n",
       "</style>\n",
       "<table border=\"1\" class=\"dataframe\">\n",
       "  <thead>\n",
       "    <tr style=\"text-align: right;\">\n",
       "      <th></th>\n",
       "      <th>Periodo</th>\n",
       "      <th>Antiguedad</th>\n",
       "      <th>Tipo_inactividad</th>\n",
       "      <th>serv_tecnico</th>\n",
       "      <th>cod_rubro</th>\n",
       "      <th>Provincia</th>\n",
       "      <th>Localidad</th>\n",
       "      <th>tipo_tecnologia</th>\n",
       "      <th>Banco_Visa</th>\n",
       "      <th>CUIT_VIP</th>\n",
       "      <th>Acepta_liquidacion</th>\n",
       "      <th>cod_plan_Ater</th>\n",
       "      <th>Cod_plan_host</th>\n",
       "      <th>Facturacion_con_descuento</th>\n",
       "      <th>Facturacion_sin_descuento</th>\n",
       "      <th>Porcentaje_Bonificacion_Teorico</th>\n",
       "      <th>Desc_Agrupacion_Rubro_Bain</th>\n",
       "      <th>Desc_Agrup_Reducida_Rubro_Bain</th>\n",
       "      <th>Modelo</th>\n",
       "      <th>Plantilla_Origen</th>\n",
       "      <th>Version_Origen</th>\n",
       "      <th>Medio</th>\n",
       "      <th>Marca</th>\n",
       "      <th>Condicion_Soft</th>\n",
       "      <th>Segmento</th>\n",
       "      <th>Sub_segmento_corporativo_2</th>\n",
       "      <th>Operatoria_no_Newland</th>\n",
       "      <th>No_newland</th>\n",
       "      <th>Adm_Posnet</th>\n",
       "      <th>Adm_Visa_Argentina</th>\n",
       "      <th>Adm_Prisma</th>\n",
       "      <th>tipo_recambio</th>\n",
       "      <th>Prioridad_por_volumen</th>\n",
       "      <th>Prioridad_por_rubro</th>\n",
       "      <th>Tipo_Utilidad_Tecnologia</th>\n",
       "      <th>Q_tx_Aprob_UltM</th>\n",
       "      <th>Q_tx_Rech_UltM</th>\n",
       "      <th>Prop_Q_tx_Rech_UltM</th>\n",
       "      <th>Q_tx_Aprob_Ult15D</th>\n",
       "      <th>Q_tx_Rech_Ult15D</th>\n",
       "      <th>Prop_Q_tx_Rech_Ult15D</th>\n",
       "      <th>Q_tx_Aprob_Ult10D</th>\n",
       "      <th>Q_tx_Rech_Ult10D</th>\n",
       "      <th>Prop_Q_tx_Rech_Ult10D</th>\n",
       "      <th>Q_tx_Aprob_Ult5D</th>\n",
       "      <th>Q_tx_Rech_Ult5D</th>\n",
       "      <th>Prop_Q_tx_Rech_Ult5D</th>\n",
       "      <th>Q_tx_Aprob_Ult4D</th>\n",
       "      <th>Prop_Q_tx_Rech_Ult4D</th>\n",
       "      <th>Q_tx_Aprob_Ult3D</th>\n",
       "      <th>Q_tx_Rech_Ult3D</th>\n",
       "      <th>Prop_Q_tx_Rech_Ult3D</th>\n",
       "      <th>Q_tx_Aprob_Ult2D</th>\n",
       "      <th>Prop_Q_tx_Rech_Ult2D</th>\n",
       "      <th>Q_tx_Aprob_UltD</th>\n",
       "      <th>Q_tx_Rech_UltD</th>\n",
       "      <th>Prop_Q_tx_Rech_UltD</th>\n",
       "      <th>Vol_tx_Aprob_UltM</th>\n",
       "      <th>Vol_tx_Rech_UltM</th>\n",
       "      <th>Prop_Vol_tx_Rech_UltM</th>\n",
       "      <th>Vol_tx_Aprob_Ult15D</th>\n",
       "      <th>Vol_tx_Rech_Ult15D</th>\n",
       "      <th>Prop_Vol_tx_Rech_Ult15D</th>\n",
       "      <th>Vol_tx_Aprob_Ult10D</th>\n",
       "      <th>Vol_tx_Rech_Ult10D</th>\n",
       "      <th>Prop_Vol_tx_Rech_Ult10D</th>\n",
       "      <th>Vol_tx_Aprob_Ult5D</th>\n",
       "      <th>Vol_tx_Rech_Ult5D</th>\n",
       "      <th>Prop_Vol_tx_Rech_Ult5D</th>\n",
       "      <th>Vol_tx_Aprob_Ult4D</th>\n",
       "      <th>Vol_tx_Rech_Ult4D</th>\n",
       "      <th>Prop_Vol_tx_Rech_Ult4D</th>\n",
       "      <th>Vol_tx_Aprob_Ult3D</th>\n",
       "      <th>Vol_tx_Rech_Ult3D</th>\n",
       "      <th>Prop_Vol_tx_Rech_Ult3D</th>\n",
       "      <th>Vol_tx_Aprob_Ult2D</th>\n",
       "      <th>Vol_tx_Rech_Ult2D</th>\n",
       "      <th>Prop_Vol_tx_Rech_Ult2D</th>\n",
       "      <th>Vol_tx_Aprob_UltD</th>\n",
       "      <th>Vol_tx_Rech_UltD</th>\n",
       "      <th>Prop_Vol_tx_Rech_UltD</th>\n",
       "      <th>Clase</th>\n",
       "    </tr>\n",
       "  </thead>\n",
       "  <tbody>\n",
       "    <tr>\n",
       "      <th>0</th>\n",
       "      <td>202102</td>\n",
       "      <td>1174</td>\n",
       "      <td>Activo</td>\n",
       "      <td>Concesionaria Siscard</td>\n",
       "      <td>5812</td>\n",
       "      <td>CORDOBA</td>\n",
       "      <td>CORDOBA</td>\n",
       "      <td>WIFI</td>\n",
       "      <td>7.0</td>\n",
       "      <td>NO</td>\n",
       "      <td>SI</td>\n",
       "      <td>Q3</td>\n",
       "      <td>CP</td>\n",
       "      <td>880.00</td>\n",
       "      <td>880.00</td>\n",
       "      <td>0.00</td>\n",
       "      <td>Restaurants &amp; Food</td>\n",
       "      <td>Restaurants &amp; Food</td>\n",
       "      <td>S920</td>\n",
       "      <td>VP037</td>\n",
       "      <td>0218P17</td>\n",
       "      <td>GPRS</td>\n",
       "      <td>AMEX</td>\n",
       "      <td>Cambiar Soft</td>\n",
       "      <td>Small</td>\n",
       "      <td>10M-25M</td>\n",
       "      <td>0</td>\n",
       "      <td>0</td>\n",
       "      <td>0</td>\n",
       "      <td>0</td>\n",
       "      <td>0</td>\n",
       "      <td>Newland</td>\n",
       "      <td>3</td>\n",
       "      <td>3</td>\n",
       "      <td>Util</td>\n",
       "      <td>831</td>\n",
       "      <td>32</td>\n",
       "      <td>0.0371</td>\n",
       "      <td>436</td>\n",
       "      <td>17</td>\n",
       "      <td>0.0375</td>\n",
       "      <td>297</td>\n",
       "      <td>6</td>\n",
       "      <td>0.0198</td>\n",
       "      <td>144</td>\n",
       "      <td>2</td>\n",
       "      <td>0.0137</td>\n",
       "      <td>127</td>\n",
       "      <td>0.0155</td>\n",
       "      <td>111</td>\n",
       "      <td>2</td>\n",
       "      <td>0.0177</td>\n",
       "      <td>81</td>\n",
       "      <td>0.0241</td>\n",
       "      <td>48</td>\n",
       "      <td>0</td>\n",
       "      <td>0.0000</td>\n",
       "      <td>2268673.0000</td>\n",
       "      <td>88370.0000</td>\n",
       "      <td>0.03749189</td>\n",
       "      <td>1178055.0000</td>\n",
       "      <td>49750.0000</td>\n",
       "      <td>0.04051946</td>\n",
       "      <td>818765.0000</td>\n",
       "      <td>17410.0000</td>\n",
       "      <td>0.02082100</td>\n",
       "      <td>411729.0000</td>\n",
       "      <td>7500.0000</td>\n",
       "      <td>0.01788998</td>\n",
       "      <td>353879.0000</td>\n",
       "      <td>7500.0000</td>\n",
       "      <td>0.02075383</td>\n",
       "      <td>320029.0000</td>\n",
       "      <td>7500.0000</td>\n",
       "      <td>0.02289874</td>\n",
       "      <td>251779.0000</td>\n",
       "      <td>7500.0000</td>\n",
       "      <td>0.02892637</td>\n",
       "      <td>150359.0000</td>\n",
       "      <td>0.0000</td>\n",
       "      <td>0E-8</td>\n",
       "      <td>1</td>\n",
       "    </tr>\n",
       "    <tr>\n",
       "      <th>1</th>\n",
       "      <td>202012</td>\n",
       "      <td>110</td>\n",
       "      <td>Activo</td>\n",
       "      <td>Concesionaria Siscard</td>\n",
       "      <td>5411</td>\n",
       "      <td>SANTA FE</td>\n",
       "      <td>ROSARIO</td>\n",
       "      <td>GSM</td>\n",
       "      <td>67.0</td>\n",
       "      <td>NO</td>\n",
       "      <td>NO</td>\n",
       "      <td>Q3</td>\n",
       "      <td>CP</td>\n",
       "      <td>None</td>\n",
       "      <td>None</td>\n",
       "      <td>0.00</td>\n",
       "      <td>Supermarkets &amp; food provider</td>\n",
       "      <td>Supermarkets &amp; food provider</td>\n",
       "      <td>S920</td>\n",
       "      <td>VP036</td>\n",
       "      <td>0213P24</td>\n",
       "      <td>GPRS</td>\n",
       "      <td>POS INTEGRADO</td>\n",
       "      <td>Cambiar Soft</td>\n",
       "      <td>Small</td>\n",
       "      <td>1M-3M</td>\n",
       "      <td>1</td>\n",
       "      <td>1</td>\n",
       "      <td>0</td>\n",
       "      <td>1</td>\n",
       "      <td>0</td>\n",
       "      <td>NA Recambio</td>\n",
       "      <td>5</td>\n",
       "      <td>2</td>\n",
       "      <td>Util</td>\n",
       "      <td>30</td>\n",
       "      <td>7</td>\n",
       "      <td>0.1892</td>\n",
       "      <td>20</td>\n",
       "      <td>6</td>\n",
       "      <td>0.2308</td>\n",
       "      <td>15</td>\n",
       "      <td>1</td>\n",
       "      <td>0.0625</td>\n",
       "      <td>0</td>\n",
       "      <td>0</td>\n",
       "      <td>0.0000</td>\n",
       "      <td>0</td>\n",
       "      <td>0.0000</td>\n",
       "      <td>0</td>\n",
       "      <td>0</td>\n",
       "      <td>0.0000</td>\n",
       "      <td>0</td>\n",
       "      <td>0.0000</td>\n",
       "      <td>0</td>\n",
       "      <td>0</td>\n",
       "      <td>0.0000</td>\n",
       "      <td>12050.0000</td>\n",
       "      <td>3330.0000</td>\n",
       "      <td>0.21651495</td>\n",
       "      <td>5950.0000</td>\n",
       "      <td>2050.0000</td>\n",
       "      <td>0.25625000</td>\n",
       "      <td>5320.0000</td>\n",
       "      <td>750.0000</td>\n",
       "      <td>0.12355848</td>\n",
       "      <td>0.0000</td>\n",
       "      <td>0.0000</td>\n",
       "      <td>0E-8</td>\n",
       "      <td>0.0000</td>\n",
       "      <td>0.0000</td>\n",
       "      <td>0E-8</td>\n",
       "      <td>0.0000</td>\n",
       "      <td>0.0000</td>\n",
       "      <td>0E-8</td>\n",
       "      <td>0.0000</td>\n",
       "      <td>0.0000</td>\n",
       "      <td>0E-8</td>\n",
       "      <td>0.0000</td>\n",
       "      <td>0.0000</td>\n",
       "      <td>0E-8</td>\n",
       "      <td>1</td>\n",
       "    </tr>\n",
       "    <tr>\n",
       "      <th>2</th>\n",
       "      <td>202103</td>\n",
       "      <td>1235</td>\n",
       "      <td>Activo</td>\n",
       "      <td>Concesionaria Siscard</td>\n",
       "      <td>5411</td>\n",
       "      <td>SANTA FE</td>\n",
       "      <td>ROSARIO</td>\n",
       "      <td>WIFI</td>\n",
       "      <td>67.0</td>\n",
       "      <td>NO</td>\n",
       "      <td>NO</td>\n",
       "      <td>E7</td>\n",
       "      <td>CP</td>\n",
       "      <td>880.00</td>\n",
       "      <td>880.00</td>\n",
       "      <td>0.00</td>\n",
       "      <td>Supermarkets &amp; food provider</td>\n",
       "      <td>Supermarkets &amp; food provider</td>\n",
       "      <td>S920</td>\n",
       "      <td>VP037</td>\n",
       "      <td>0218P29</td>\n",
       "      <td>Ethernet/Wi-Fi</td>\n",
       "      <td>AMEX</td>\n",
       "      <td>Cambiar Soft</td>\n",
       "      <td>Small</td>\n",
       "      <td>3M-5M</td>\n",
       "      <td>0</td>\n",
       "      <td>0</td>\n",
       "      <td>0</td>\n",
       "      <td>0</td>\n",
       "      <td>0</td>\n",
       "      <td>NA Recambio</td>\n",
       "      <td>4</td>\n",
       "      <td>2</td>\n",
       "      <td>Util</td>\n",
       "      <td>68</td>\n",
       "      <td>2</td>\n",
       "      <td>0.0286</td>\n",
       "      <td>68</td>\n",
       "      <td>2</td>\n",
       "      <td>0.0286</td>\n",
       "      <td>68</td>\n",
       "      <td>2</td>\n",
       "      <td>0.0286</td>\n",
       "      <td>13</td>\n",
       "      <td>0</td>\n",
       "      <td>0.0000</td>\n",
       "      <td>0</td>\n",
       "      <td>0.0000</td>\n",
       "      <td>0</td>\n",
       "      <td>0</td>\n",
       "      <td>0.0000</td>\n",
       "      <td>0</td>\n",
       "      <td>0.0000</td>\n",
       "      <td>0</td>\n",
       "      <td>0</td>\n",
       "      <td>0.0000</td>\n",
       "      <td>60498.0000</td>\n",
       "      <td>3215.0000</td>\n",
       "      <td>0.05046066</td>\n",
       "      <td>60498.0000</td>\n",
       "      <td>3215.0000</td>\n",
       "      <td>0.05046066</td>\n",
       "      <td>60498.0000</td>\n",
       "      <td>3215.0000</td>\n",
       "      <td>0.05046066</td>\n",
       "      <td>10931.0000</td>\n",
       "      <td>0.0000</td>\n",
       "      <td>0E-8</td>\n",
       "      <td>0.0000</td>\n",
       "      <td>0.0000</td>\n",
       "      <td>0E-8</td>\n",
       "      <td>0.0000</td>\n",
       "      <td>0.0000</td>\n",
       "      <td>0E-8</td>\n",
       "      <td>0.0000</td>\n",
       "      <td>0.0000</td>\n",
       "      <td>0E-8</td>\n",
       "      <td>0.0000</td>\n",
       "      <td>0.0000</td>\n",
       "      <td>0E-8</td>\n",
       "      <td>1</td>\n",
       "    </tr>\n",
       "    <tr>\n",
       "      <th>3</th>\n",
       "      <td>202103</td>\n",
       "      <td>33</td>\n",
       "      <td>Sin uso</td>\n",
       "      <td>SIENCOM</td>\n",
       "      <td>5571</td>\n",
       "      <td>MENDOZA</td>\n",
       "      <td>VILLA NUEVA DE GUAYMALLEN</td>\n",
       "      <td>SIN DATO</td>\n",
       "      <td>72.0</td>\n",
       "      <td>NO</td>\n",
       "      <td>SI</td>\n",
       "      <td>AB</td>\n",
       "      <td>AB</td>\n",
       "      <td>None</td>\n",
       "      <td>None</td>\n",
       "      <td>0.00</td>\n",
       "      <td>Autoparts &amp; Motorcycles</td>\n",
       "      <td>Autoparts &amp; Motorcycles</td>\n",
       "      <td>S920</td>\n",
       "      <td>VP037</td>\n",
       "      <td>0218P17</td>\n",
       "      <td>Ethernet/Wi-Fi</td>\n",
       "      <td>CTLS</td>\n",
       "      <td>Cambiar Soft</td>\n",
       "      <td>Small</td>\n",
       "      <td>1M-3M</td>\n",
       "      <td>0</td>\n",
       "      <td>0</td>\n",
       "      <td>0</td>\n",
       "      <td>0</td>\n",
       "      <td>0</td>\n",
       "      <td>NA Recambio</td>\n",
       "      <td>5</td>\n",
       "      <td>7</td>\n",
       "      <td>Util</td>\n",
       "      <td>0</td>\n",
       "      <td>1</td>\n",
       "      <td>1.0000</td>\n",
       "      <td>0</td>\n",
       "      <td>0</td>\n",
       "      <td>0.0000</td>\n",
       "      <td>0</td>\n",
       "      <td>0</td>\n",
       "      <td>0.0000</td>\n",
       "      <td>0</td>\n",
       "      <td>0</td>\n",
       "      <td>0.0000</td>\n",
       "      <td>0</td>\n",
       "      <td>0.0000</td>\n",
       "      <td>0</td>\n",
       "      <td>0</td>\n",
       "      <td>0.0000</td>\n",
       "      <td>0</td>\n",
       "      <td>0.0000</td>\n",
       "      <td>0</td>\n",
       "      <td>0</td>\n",
       "      <td>0.0000</td>\n",
       "      <td>0.0000</td>\n",
       "      <td>5800.0000</td>\n",
       "      <td>1.00000000</td>\n",
       "      <td>0.0000</td>\n",
       "      <td>0.0000</td>\n",
       "      <td>0E-8</td>\n",
       "      <td>0.0000</td>\n",
       "      <td>0.0000</td>\n",
       "      <td>0E-8</td>\n",
       "      <td>0.0000</td>\n",
       "      <td>0.0000</td>\n",
       "      <td>0E-8</td>\n",
       "      <td>0.0000</td>\n",
       "      <td>0.0000</td>\n",
       "      <td>0E-8</td>\n",
       "      <td>0.0000</td>\n",
       "      <td>0.0000</td>\n",
       "      <td>0E-8</td>\n",
       "      <td>0.0000</td>\n",
       "      <td>0.0000</td>\n",
       "      <td>0E-8</td>\n",
       "      <td>0.0000</td>\n",
       "      <td>0.0000</td>\n",
       "      <td>0E-8</td>\n",
       "      <td>1</td>\n",
       "    </tr>\n",
       "    <tr>\n",
       "      <th>4</th>\n",
       "      <td>202103</td>\n",
       "      <td>81</td>\n",
       "      <td>Activo</td>\n",
       "      <td>Concesionaria Siscard</td>\n",
       "      <td>5641</td>\n",
       "      <td>SANTA FE</td>\n",
       "      <td>ROSARIO</td>\n",
       "      <td>WIFI</td>\n",
       "      <td>17.0</td>\n",
       "      <td>NO</td>\n",
       "      <td>SI</td>\n",
       "      <td>SQ</td>\n",
       "      <td>SQ</td>\n",
       "      <td>None</td>\n",
       "      <td>None</td>\n",
       "      <td>0.00</td>\n",
       "      <td>Retail - clothing</td>\n",
       "      <td>Retail - clothing</td>\n",
       "      <td>S920</td>\n",
       "      <td>VP037</td>\n",
       "      <td>0218P29</td>\n",
       "      <td>Ethernet/Wi-Fi</td>\n",
       "      <td>AMEX</td>\n",
       "      <td>Cambiar Soft</td>\n",
       "      <td>Micro - Merchant</td>\n",
       "      <td>750K-1M</td>\n",
       "      <td>0</td>\n",
       "      <td>0</td>\n",
       "      <td>0</td>\n",
       "      <td>0</td>\n",
       "      <td>0</td>\n",
       "      <td>OK - Util</td>\n",
       "      <td>5</td>\n",
       "      <td>4</td>\n",
       "      <td>Util</td>\n",
       "      <td>18</td>\n",
       "      <td>0</td>\n",
       "      <td>0.0000</td>\n",
       "      <td>10</td>\n",
       "      <td>0</td>\n",
       "      <td>0.0000</td>\n",
       "      <td>3</td>\n",
       "      <td>0</td>\n",
       "      <td>0.0000</td>\n",
       "      <td>0</td>\n",
       "      <td>0</td>\n",
       "      <td>0.0000</td>\n",
       "      <td>0</td>\n",
       "      <td>0.0000</td>\n",
       "      <td>0</td>\n",
       "      <td>0</td>\n",
       "      <td>0.0000</td>\n",
       "      <td>0</td>\n",
       "      <td>0.0000</td>\n",
       "      <td>0</td>\n",
       "      <td>0</td>\n",
       "      <td>0.0000</td>\n",
       "      <td>30380.0000</td>\n",
       "      <td>0.0000</td>\n",
       "      <td>0E-8</td>\n",
       "      <td>15420.0000</td>\n",
       "      <td>0.0000</td>\n",
       "      <td>0E-8</td>\n",
       "      <td>3980.0000</td>\n",
       "      <td>0.0000</td>\n",
       "      <td>0E-8</td>\n",
       "      <td>0.0000</td>\n",
       "      <td>0.0000</td>\n",
       "      <td>0E-8</td>\n",
       "      <td>0.0000</td>\n",
       "      <td>0.0000</td>\n",
       "      <td>0E-8</td>\n",
       "      <td>0.0000</td>\n",
       "      <td>0.0000</td>\n",
       "      <td>0E-8</td>\n",
       "      <td>0.0000</td>\n",
       "      <td>0.0000</td>\n",
       "      <td>0E-8</td>\n",
       "      <td>0.0000</td>\n",
       "      <td>0.0000</td>\n",
       "      <td>0E-8</td>\n",
       "      <td>1</td>\n",
       "    </tr>\n",
       "  </tbody>\n",
       "</table>\n",
       "</div>"
      ],
      "text/plain": [
       "   Periodo  Antiguedad Tipo_inactividad           serv_tecnico cod_rubro  \\\n",
       "0   202102        1174           Activo  Concesionaria Siscard  5812       \n",
       "1   202012         110           Activo  Concesionaria Siscard  5411       \n",
       "2   202103        1235           Activo  Concesionaria Siscard  5411       \n",
       "3   202103          33          Sin uso                SIENCOM  5571       \n",
       "4   202103          81           Activo  Concesionaria Siscard  5641       \n",
       "\n",
       "  Provincia                  Localidad tipo_tecnologia  Banco_Visa CUIT_VIP  \\\n",
       "0   CORDOBA                    CORDOBA            WIFI         7.0       NO   \n",
       "1  SANTA FE                    ROSARIO             GSM        67.0       NO   \n",
       "2  SANTA FE                    ROSARIO            WIFI        67.0       NO   \n",
       "3   MENDOZA  VILLA NUEVA DE GUAYMALLEN        SIN DATO        72.0       NO   \n",
       "4  SANTA FE                    ROSARIO            WIFI        17.0       NO   \n",
       "\n",
       "  Acepta_liquidacion cod_plan_Ater Cod_plan_host Facturacion_con_descuento  \\\n",
       "0                 SI          Q3            CP                      880.00   \n",
       "1                 NO          Q3            CP                        None   \n",
       "2                 NO          E7            CP                      880.00   \n",
       "3                 SI          AB            AB                        None   \n",
       "4                 SI          SQ            SQ                        None   \n",
       "\n",
       "  Facturacion_sin_descuento Porcentaje_Bonificacion_Teorico  \\\n",
       "0                    880.00                            0.00   \n",
       "1                      None                            0.00   \n",
       "2                    880.00                            0.00   \n",
       "3                      None                            0.00   \n",
       "4                      None                            0.00   \n",
       "\n",
       "     Desc_Agrupacion_Rubro_Bain Desc_Agrup_Reducida_Rubro_Bain Modelo  \\\n",
       "0            Restaurants & Food             Restaurants & Food   S920   \n",
       "1  Supermarkets & food provider   Supermarkets & food provider   S920   \n",
       "2  Supermarkets & food provider   Supermarkets & food provider   S920   \n",
       "3       Autoparts & Motorcycles        Autoparts & Motorcycles   S920   \n",
       "4             Retail - clothing              Retail - clothing   S920   \n",
       "\n",
       "  Plantilla_Origen Version_Origen           Medio          Marca  \\\n",
       "0            VP037        0218P17            GPRS           AMEX   \n",
       "1            VP036        0213P24            GPRS  POS INTEGRADO   \n",
       "2            VP037        0218P29  Ethernet/Wi-Fi           AMEX   \n",
       "3            VP037        0218P17  Ethernet/Wi-Fi           CTLS   \n",
       "4            VP037        0218P29  Ethernet/Wi-Fi           AMEX   \n",
       "\n",
       "  Condicion_Soft          Segmento Sub_segmento_corporativo_2  \\\n",
       "0   Cambiar Soft             Small                    10M-25M   \n",
       "1   Cambiar Soft             Small                      1M-3M   \n",
       "2   Cambiar Soft             Small                      3M-5M   \n",
       "3   Cambiar Soft             Small                      1M-3M   \n",
       "4   Cambiar Soft  Micro - Merchant                    750K-1M   \n",
       "\n",
       "   Operatoria_no_Newland  No_newland  Adm_Posnet  Adm_Visa_Argentina  \\\n",
       "0                      0           0           0                   0   \n",
       "1                      1           1           0                   1   \n",
       "2                      0           0           0                   0   \n",
       "3                      0           0           0                   0   \n",
       "4                      0           0           0                   0   \n",
       "\n",
       "   Adm_Prisma tipo_recambio Prioridad_por_volumen  Prioridad_por_rubro  \\\n",
       "0           0       Newland                     3                    3   \n",
       "1           0   NA Recambio                     5                    2   \n",
       "2           0   NA Recambio                     4                    2   \n",
       "3           0   NA Recambio                     5                    7   \n",
       "4           0     OK - Util                     5                    4   \n",
       "\n",
       "  Tipo_Utilidad_Tecnologia  Q_tx_Aprob_UltM  Q_tx_Rech_UltM  \\\n",
       "0                     Util              831              32   \n",
       "1                     Util               30               7   \n",
       "2                     Util               68               2   \n",
       "3                     Util                0               1   \n",
       "4                     Util               18               0   \n",
       "\n",
       "  Prop_Q_tx_Rech_UltM  Q_tx_Aprob_Ult15D  Q_tx_Rech_Ult15D  \\\n",
       "0              0.0371                436                17   \n",
       "1              0.1892                 20                 6   \n",
       "2              0.0286                 68                 2   \n",
       "3              1.0000                  0                 0   \n",
       "4              0.0000                 10                 0   \n",
       "\n",
       "  Prop_Q_tx_Rech_Ult15D  Q_tx_Aprob_Ult10D  Q_tx_Rech_Ult10D  \\\n",
       "0                0.0375                297                 6   \n",
       "1                0.2308                 15                 1   \n",
       "2                0.0286                 68                 2   \n",
       "3                0.0000                  0                 0   \n",
       "4                0.0000                  3                 0   \n",
       "\n",
       "  Prop_Q_tx_Rech_Ult10D  Q_tx_Aprob_Ult5D  Q_tx_Rech_Ult5D  \\\n",
       "0                0.0198               144                2   \n",
       "1                0.0625                 0                0   \n",
       "2                0.0286                13                0   \n",
       "3                0.0000                 0                0   \n",
       "4                0.0000                 0                0   \n",
       "\n",
       "  Prop_Q_tx_Rech_Ult5D  Q_tx_Aprob_Ult4D Prop_Q_tx_Rech_Ult4D  \\\n",
       "0               0.0137               127               0.0155   \n",
       "1               0.0000                 0               0.0000   \n",
       "2               0.0000                 0               0.0000   \n",
       "3               0.0000                 0               0.0000   \n",
       "4               0.0000                 0               0.0000   \n",
       "\n",
       "   Q_tx_Aprob_Ult3D  Q_tx_Rech_Ult3D Prop_Q_tx_Rech_Ult3D  Q_tx_Aprob_Ult2D  \\\n",
       "0               111                2               0.0177                81   \n",
       "1                 0                0               0.0000                 0   \n",
       "2                 0                0               0.0000                 0   \n",
       "3                 0                0               0.0000                 0   \n",
       "4                 0                0               0.0000                 0   \n",
       "\n",
       "  Prop_Q_tx_Rech_Ult2D  Q_tx_Aprob_UltD  Q_tx_Rech_UltD Prop_Q_tx_Rech_UltD  \\\n",
       "0               0.0241               48               0              0.0000   \n",
       "1               0.0000                0               0              0.0000   \n",
       "2               0.0000                0               0              0.0000   \n",
       "3               0.0000                0               0              0.0000   \n",
       "4               0.0000                0               0              0.0000   \n",
       "\n",
       "  Vol_tx_Aprob_UltM Vol_tx_Rech_UltM Prop_Vol_tx_Rech_UltM  \\\n",
       "0      2268673.0000       88370.0000            0.03749189   \n",
       "1        12050.0000        3330.0000            0.21651495   \n",
       "2        60498.0000        3215.0000            0.05046066   \n",
       "3            0.0000        5800.0000            1.00000000   \n",
       "4        30380.0000           0.0000                  0E-8   \n",
       "\n",
       "  Vol_tx_Aprob_Ult15D Vol_tx_Rech_Ult15D Prop_Vol_tx_Rech_Ult15D  \\\n",
       "0        1178055.0000         49750.0000              0.04051946   \n",
       "1           5950.0000          2050.0000              0.25625000   \n",
       "2          60498.0000          3215.0000              0.05046066   \n",
       "3              0.0000             0.0000                    0E-8   \n",
       "4          15420.0000             0.0000                    0E-8   \n",
       "\n",
       "  Vol_tx_Aprob_Ult10D Vol_tx_Rech_Ult10D Prop_Vol_tx_Rech_Ult10D  \\\n",
       "0         818765.0000         17410.0000              0.02082100   \n",
       "1           5320.0000           750.0000              0.12355848   \n",
       "2          60498.0000          3215.0000              0.05046066   \n",
       "3              0.0000             0.0000                    0E-8   \n",
       "4           3980.0000             0.0000                    0E-8   \n",
       "\n",
       "  Vol_tx_Aprob_Ult5D Vol_tx_Rech_Ult5D Prop_Vol_tx_Rech_Ult5D  \\\n",
       "0        411729.0000         7500.0000             0.01788998   \n",
       "1             0.0000            0.0000                   0E-8   \n",
       "2         10931.0000            0.0000                   0E-8   \n",
       "3             0.0000            0.0000                   0E-8   \n",
       "4             0.0000            0.0000                   0E-8   \n",
       "\n",
       "  Vol_tx_Aprob_Ult4D Vol_tx_Rech_Ult4D Prop_Vol_tx_Rech_Ult4D  \\\n",
       "0        353879.0000         7500.0000             0.02075383   \n",
       "1             0.0000            0.0000                   0E-8   \n",
       "2             0.0000            0.0000                   0E-8   \n",
       "3             0.0000            0.0000                   0E-8   \n",
       "4             0.0000            0.0000                   0E-8   \n",
       "\n",
       "  Vol_tx_Aprob_Ult3D Vol_tx_Rech_Ult3D Prop_Vol_tx_Rech_Ult3D  \\\n",
       "0        320029.0000         7500.0000             0.02289874   \n",
       "1             0.0000            0.0000                   0E-8   \n",
       "2             0.0000            0.0000                   0E-8   \n",
       "3             0.0000            0.0000                   0E-8   \n",
       "4             0.0000            0.0000                   0E-8   \n",
       "\n",
       "  Vol_tx_Aprob_Ult2D Vol_tx_Rech_Ult2D Prop_Vol_tx_Rech_Ult2D  \\\n",
       "0        251779.0000         7500.0000             0.02892637   \n",
       "1             0.0000            0.0000                   0E-8   \n",
       "2             0.0000            0.0000                   0E-8   \n",
       "3             0.0000            0.0000                   0E-8   \n",
       "4             0.0000            0.0000                   0E-8   \n",
       "\n",
       "  Vol_tx_Aprob_UltD Vol_tx_Rech_UltD Prop_Vol_tx_Rech_UltD  Clase  \n",
       "0       150359.0000           0.0000                  0E-8      1  \n",
       "1            0.0000           0.0000                  0E-8      1  \n",
       "2            0.0000           0.0000                  0E-8      1  \n",
       "3            0.0000           0.0000                  0E-8      1  \n",
       "4            0.0000           0.0000                  0E-8      1  "
      ]
     },
     "execution_count": 17,
     "metadata": {},
     "output_type": "execute_result"
    }
   ],
   "source": [
    "df1.head(5)"
   ]
  },
  {
   "cell_type": "markdown",
   "metadata": {},
   "source": [
    "## Revisamos y Eliminamos las N.A."
   ]
  },
  {
   "cell_type": "code",
   "execution_count": 18,
   "metadata": {
    "scrolled": false
   },
   "outputs": [
    {
     "data": {
      "text/plain": [
       "Periodo                     0\n",
       "Antiguedad                  0\n",
       "Tipo_inactividad            0\n",
       "serv_tecnico                0\n",
       "cod_rubro                 165\n",
       "                         ... \n",
       "Prop_Vol_tx_Rech_Ult2D      0\n",
       "Vol_tx_Aprob_UltD           0\n",
       "Vol_tx_Rech_UltD            0\n",
       "Prop_Vol_tx_Rech_UltD       0\n",
       "Clase                       0\n",
       "Length: 82, dtype: int64"
      ]
     },
     "execution_count": 18,
     "metadata": {},
     "output_type": "execute_result"
    }
   ],
   "source": [
    "df1.isnull().sum()"
   ]
  },
  {
   "cell_type": "code",
   "execution_count": null,
   "metadata": {},
   "outputs": [],
   "source": [
    "df1.isnull().mean().head(50)"
   ]
  },
  {
   "cell_type": "code",
   "execution_count": 19,
   "metadata": {},
   "outputs": [],
   "source": [
    "df1.dropna(axis=0,inplace=True)"
   ]
  },
  {
   "cell_type": "code",
   "execution_count": 21,
   "metadata": {
    "scrolled": false
   },
   "outputs": [
    {
     "data": {
      "text/plain": [
       "(96917, 82)"
      ]
     },
     "execution_count": 21,
     "metadata": {},
     "output_type": "execute_result"
    }
   ],
   "source": [
    "df1.shape"
   ]
  },
  {
   "cell_type": "markdown",
   "metadata": {},
   "source": [
    "## Pasamos a numericos todos los valores"
   ]
  },
  {
   "cell_type": "code",
   "execution_count": 359,
   "metadata": {},
   "outputs": [],
   "source": [
    "# TODOS LOS CAMPOS = \n",
    "#campos_no_numericos = [\"Tipo_inactividad\",\"serv_tecnico\",\"Provincia\",\"Localidad\",\"tipo_tecnologia\",\"estado_terminal\",\"superestado_terminal\",\"CUIT_VIP\",\"Plantilla_Origen\",\"Version_Origen\",\"Acepta_liquidacion\",\"Version_Origen\",\"Medio\",\"Marca\",\"Condicion_Soft\",\"Segmento\",\"Sub_segmento_corporativo_2\",\"Tipo_Utilidad_Tecnologia\",\"tipo_recambio\",\"cod_plan_Ater\",\"Cod_plan_host\",\"Desc_Agrupacion_Rubro_Bain\",\"Desc_Agrup_Reducida_Rubro_Bain\",\"Modelo\"]\n"
   ]
  },
  {
   "cell_type": "code",
   "execution_count": 23,
   "metadata": {},
   "outputs": [],
   "source": [
    "campos_no_numericos = [\"Tipo_inactividad\",\"serv_tecnico\",\"Provincia\",\"Localidad\",\"tipo_tecnologia\",\"CUIT_VIP\",\"Plantilla_Origen\",\"Version_Origen\",\"Acepta_liquidacion\",\"Version_Origen\",\"Medio\",\"Marca\",\"Condicion_Soft\",\"Segmento\",\"Sub_segmento_corporativo_2\",\"Tipo_Utilidad_Tecnologia\",\"tipo_recambio\",\"cod_plan_Ater\",\"Cod_plan_host\",\"Desc_Agrupacion_Rubro_Bain\",\"Desc_Agrup_Reducida_Rubro_Bain\",\"Modelo\"]"
   ]
  },
  {
   "cell_type": "code",
   "execution_count": 24,
   "metadata": {},
   "outputs": [],
   "source": [
    "df1[campos_no_numericos] = df1[campos_no_numericos].apply(LabelEncoder().fit_transform)"
   ]
  },
  {
   "cell_type": "code",
   "execution_count": 25,
   "metadata": {},
   "outputs": [
    {
     "data": {
      "text/html": [
       "<div>\n",
       "<style scoped>\n",
       "    .dataframe tbody tr th:only-of-type {\n",
       "        vertical-align: middle;\n",
       "    }\n",
       "\n",
       "    .dataframe tbody tr th {\n",
       "        vertical-align: top;\n",
       "    }\n",
       "\n",
       "    .dataframe thead th {\n",
       "        text-align: right;\n",
       "    }\n",
       "</style>\n",
       "<table border=\"1\" class=\"dataframe\">\n",
       "  <thead>\n",
       "    <tr style=\"text-align: right;\">\n",
       "      <th></th>\n",
       "      <th>Periodo</th>\n",
       "      <th>Antiguedad</th>\n",
       "      <th>Tipo_inactividad</th>\n",
       "      <th>serv_tecnico</th>\n",
       "      <th>cod_rubro</th>\n",
       "      <th>Provincia</th>\n",
       "      <th>Localidad</th>\n",
       "      <th>tipo_tecnologia</th>\n",
       "      <th>Banco_Visa</th>\n",
       "      <th>CUIT_VIP</th>\n",
       "      <th>Acepta_liquidacion</th>\n",
       "      <th>cod_plan_Ater</th>\n",
       "      <th>Cod_plan_host</th>\n",
       "      <th>Facturacion_con_descuento</th>\n",
       "      <th>Facturacion_sin_descuento</th>\n",
       "      <th>Porcentaje_Bonificacion_Teorico</th>\n",
       "      <th>Desc_Agrupacion_Rubro_Bain</th>\n",
       "      <th>Desc_Agrup_Reducida_Rubro_Bain</th>\n",
       "      <th>Modelo</th>\n",
       "      <th>Plantilla_Origen</th>\n",
       "      <th>Version_Origen</th>\n",
       "      <th>Medio</th>\n",
       "      <th>Marca</th>\n",
       "      <th>Condicion_Soft</th>\n",
       "      <th>Segmento</th>\n",
       "      <th>Sub_segmento_corporativo_2</th>\n",
       "      <th>Operatoria_no_Newland</th>\n",
       "      <th>No_newland</th>\n",
       "      <th>Adm_Posnet</th>\n",
       "      <th>Adm_Visa_Argentina</th>\n",
       "      <th>Adm_Prisma</th>\n",
       "      <th>tipo_recambio</th>\n",
       "      <th>Prioridad_por_volumen</th>\n",
       "      <th>Prioridad_por_rubro</th>\n",
       "      <th>Tipo_Utilidad_Tecnologia</th>\n",
       "      <th>Q_tx_Aprob_UltM</th>\n",
       "      <th>Q_tx_Rech_UltM</th>\n",
       "      <th>Prop_Q_tx_Rech_UltM</th>\n",
       "      <th>Q_tx_Aprob_Ult15D</th>\n",
       "      <th>Q_tx_Rech_Ult15D</th>\n",
       "      <th>Prop_Q_tx_Rech_Ult15D</th>\n",
       "      <th>Q_tx_Aprob_Ult10D</th>\n",
       "      <th>Q_tx_Rech_Ult10D</th>\n",
       "      <th>Prop_Q_tx_Rech_Ult10D</th>\n",
       "      <th>Q_tx_Aprob_Ult5D</th>\n",
       "      <th>Q_tx_Rech_Ult5D</th>\n",
       "      <th>Prop_Q_tx_Rech_Ult5D</th>\n",
       "      <th>Q_tx_Aprob_Ult4D</th>\n",
       "      <th>Prop_Q_tx_Rech_Ult4D</th>\n",
       "      <th>Q_tx_Aprob_Ult3D</th>\n",
       "      <th>Q_tx_Rech_Ult3D</th>\n",
       "      <th>Prop_Q_tx_Rech_Ult3D</th>\n",
       "      <th>Q_tx_Aprob_Ult2D</th>\n",
       "      <th>Prop_Q_tx_Rech_Ult2D</th>\n",
       "      <th>Q_tx_Aprob_UltD</th>\n",
       "      <th>Q_tx_Rech_UltD</th>\n",
       "      <th>Prop_Q_tx_Rech_UltD</th>\n",
       "      <th>Vol_tx_Aprob_UltM</th>\n",
       "      <th>Vol_tx_Rech_UltM</th>\n",
       "      <th>Prop_Vol_tx_Rech_UltM</th>\n",
       "      <th>Vol_tx_Aprob_Ult15D</th>\n",
       "      <th>Vol_tx_Rech_Ult15D</th>\n",
       "      <th>Prop_Vol_tx_Rech_Ult15D</th>\n",
       "      <th>Vol_tx_Aprob_Ult10D</th>\n",
       "      <th>Vol_tx_Rech_Ult10D</th>\n",
       "      <th>Prop_Vol_tx_Rech_Ult10D</th>\n",
       "      <th>Vol_tx_Aprob_Ult5D</th>\n",
       "      <th>Vol_tx_Rech_Ult5D</th>\n",
       "      <th>Prop_Vol_tx_Rech_Ult5D</th>\n",
       "      <th>Vol_tx_Aprob_Ult4D</th>\n",
       "      <th>Vol_tx_Rech_Ult4D</th>\n",
       "      <th>Prop_Vol_tx_Rech_Ult4D</th>\n",
       "      <th>Vol_tx_Aprob_Ult3D</th>\n",
       "      <th>Vol_tx_Rech_Ult3D</th>\n",
       "      <th>Prop_Vol_tx_Rech_Ult3D</th>\n",
       "      <th>Vol_tx_Aprob_Ult2D</th>\n",
       "      <th>Vol_tx_Rech_Ult2D</th>\n",
       "      <th>Prop_Vol_tx_Rech_Ult2D</th>\n",
       "      <th>Vol_tx_Aprob_UltD</th>\n",
       "      <th>Vol_tx_Rech_UltD</th>\n",
       "      <th>Prop_Vol_tx_Rech_UltD</th>\n",
       "      <th>Clase</th>\n",
       "    </tr>\n",
       "  </thead>\n",
       "  <tbody>\n",
       "    <tr>\n",
       "      <th>0</th>\n",
       "      <td>202102</td>\n",
       "      <td>1174</td>\n",
       "      <td>4</td>\n",
       "      <td>0</td>\n",
       "      <td>5812</td>\n",
       "      <td>6</td>\n",
       "      <td>920</td>\n",
       "      <td>4</td>\n",
       "      <td>7.0</td>\n",
       "      <td>0</td>\n",
       "      <td>1</td>\n",
       "      <td>138</td>\n",
       "      <td>27</td>\n",
       "      <td>880.00</td>\n",
       "      <td>880.00</td>\n",
       "      <td>0.00</td>\n",
       "      <td>7</td>\n",
       "      <td>3</td>\n",
       "      <td>2</td>\n",
       "      <td>61</td>\n",
       "      <td>51</td>\n",
       "      <td>2</td>\n",
       "      <td>1</td>\n",
       "      <td>1</td>\n",
       "      <td>3</td>\n",
       "      <td>1</td>\n",
       "      <td>0</td>\n",
       "      <td>0</td>\n",
       "      <td>0</td>\n",
       "      <td>0</td>\n",
       "      <td>0</td>\n",
       "      <td>1</td>\n",
       "      <td>3</td>\n",
       "      <td>3</td>\n",
       "      <td>1</td>\n",
       "      <td>831</td>\n",
       "      <td>32</td>\n",
       "      <td>0.0371</td>\n",
       "      <td>436</td>\n",
       "      <td>17</td>\n",
       "      <td>0.0375</td>\n",
       "      <td>297</td>\n",
       "      <td>6</td>\n",
       "      <td>0.0198</td>\n",
       "      <td>144</td>\n",
       "      <td>2</td>\n",
       "      <td>0.0137</td>\n",
       "      <td>127</td>\n",
       "      <td>0.0155</td>\n",
       "      <td>111</td>\n",
       "      <td>2</td>\n",
       "      <td>0.0177</td>\n",
       "      <td>81</td>\n",
       "      <td>0.0241</td>\n",
       "      <td>48</td>\n",
       "      <td>0</td>\n",
       "      <td>0.0000</td>\n",
       "      <td>2268673.0000</td>\n",
       "      <td>88370.0000</td>\n",
       "      <td>0.03749189</td>\n",
       "      <td>1178055.0000</td>\n",
       "      <td>49750.0000</td>\n",
       "      <td>0.04051946</td>\n",
       "      <td>818765.0000</td>\n",
       "      <td>17410.0000</td>\n",
       "      <td>0.02082100</td>\n",
       "      <td>411729.0000</td>\n",
       "      <td>7500.0000</td>\n",
       "      <td>0.01788998</td>\n",
       "      <td>353879.0000</td>\n",
       "      <td>7500.0000</td>\n",
       "      <td>0.02075383</td>\n",
       "      <td>320029.0000</td>\n",
       "      <td>7500.0000</td>\n",
       "      <td>0.02289874</td>\n",
       "      <td>251779.0000</td>\n",
       "      <td>7500.0000</td>\n",
       "      <td>0.02892637</td>\n",
       "      <td>150359.0000</td>\n",
       "      <td>0.0000</td>\n",
       "      <td>0E-8</td>\n",
       "      <td>1</td>\n",
       "    </tr>\n",
       "    <tr>\n",
       "      <th>2</th>\n",
       "      <td>202103</td>\n",
       "      <td>1235</td>\n",
       "      <td>4</td>\n",
       "      <td>0</td>\n",
       "      <td>5411</td>\n",
       "      <td>21</td>\n",
       "      <td>1989</td>\n",
       "      <td>4</td>\n",
       "      <td>67.0</td>\n",
       "      <td>0</td>\n",
       "      <td>0</td>\n",
       "      <td>52</td>\n",
       "      <td>27</td>\n",
       "      <td>880.00</td>\n",
       "      <td>880.00</td>\n",
       "      <td>0.00</td>\n",
       "      <td>14</td>\n",
       "      <td>8</td>\n",
       "      <td>2</td>\n",
       "      <td>61</td>\n",
       "      <td>54</td>\n",
       "      <td>1</td>\n",
       "      <td>1</td>\n",
       "      <td>1</td>\n",
       "      <td>3</td>\n",
       "      <td>7</td>\n",
       "      <td>0</td>\n",
       "      <td>0</td>\n",
       "      <td>0</td>\n",
       "      <td>0</td>\n",
       "      <td>0</td>\n",
       "      <td>0</td>\n",
       "      <td>4</td>\n",
       "      <td>2</td>\n",
       "      <td>1</td>\n",
       "      <td>68</td>\n",
       "      <td>2</td>\n",
       "      <td>0.0286</td>\n",
       "      <td>68</td>\n",
       "      <td>2</td>\n",
       "      <td>0.0286</td>\n",
       "      <td>68</td>\n",
       "      <td>2</td>\n",
       "      <td>0.0286</td>\n",
       "      <td>13</td>\n",
       "      <td>0</td>\n",
       "      <td>0.0000</td>\n",
       "      <td>0</td>\n",
       "      <td>0.0000</td>\n",
       "      <td>0</td>\n",
       "      <td>0</td>\n",
       "      <td>0.0000</td>\n",
       "      <td>0</td>\n",
       "      <td>0.0000</td>\n",
       "      <td>0</td>\n",
       "      <td>0</td>\n",
       "      <td>0.0000</td>\n",
       "      <td>60498.0000</td>\n",
       "      <td>3215.0000</td>\n",
       "      <td>0.05046066</td>\n",
       "      <td>60498.0000</td>\n",
       "      <td>3215.0000</td>\n",
       "      <td>0.05046066</td>\n",
       "      <td>60498.0000</td>\n",
       "      <td>3215.0000</td>\n",
       "      <td>0.05046066</td>\n",
       "      <td>10931.0000</td>\n",
       "      <td>0.0000</td>\n",
       "      <td>0E-8</td>\n",
       "      <td>0.0000</td>\n",
       "      <td>0.0000</td>\n",
       "      <td>0E-8</td>\n",
       "      <td>0.0000</td>\n",
       "      <td>0.0000</td>\n",
       "      <td>0E-8</td>\n",
       "      <td>0.0000</td>\n",
       "      <td>0.0000</td>\n",
       "      <td>0E-8</td>\n",
       "      <td>0.0000</td>\n",
       "      <td>0.0000</td>\n",
       "      <td>0E-8</td>\n",
       "      <td>1</td>\n",
       "    </tr>\n",
       "  </tbody>\n",
       "</table>\n",
       "</div>"
      ],
      "text/plain": [
       "   Periodo  Antiguedad  Tipo_inactividad  serv_tecnico cod_rubro  Provincia  \\\n",
       "0   202102        1174                 4             0  5812              6   \n",
       "2   202103        1235                 4             0  5411             21   \n",
       "\n",
       "   Localidad  tipo_tecnologia  Banco_Visa  CUIT_VIP  Acepta_liquidacion  \\\n",
       "0        920                4         7.0         0                   1   \n",
       "2       1989                4        67.0         0                   0   \n",
       "\n",
       "   cod_plan_Ater  Cod_plan_host Facturacion_con_descuento  \\\n",
       "0            138             27                    880.00   \n",
       "2             52             27                    880.00   \n",
       "\n",
       "  Facturacion_sin_descuento Porcentaje_Bonificacion_Teorico  \\\n",
       "0                    880.00                            0.00   \n",
       "2                    880.00                            0.00   \n",
       "\n",
       "   Desc_Agrupacion_Rubro_Bain  Desc_Agrup_Reducida_Rubro_Bain  Modelo  \\\n",
       "0                           7                               3       2   \n",
       "2                          14                               8       2   \n",
       "\n",
       "   Plantilla_Origen  Version_Origen  Medio  Marca  Condicion_Soft  Segmento  \\\n",
       "0                61              51      2      1               1         3   \n",
       "2                61              54      1      1               1         3   \n",
       "\n",
       "   Sub_segmento_corporativo_2  Operatoria_no_Newland  No_newland  Adm_Posnet  \\\n",
       "0                           1                      0           0           0   \n",
       "2                           7                      0           0           0   \n",
       "\n",
       "   Adm_Visa_Argentina  Adm_Prisma  tipo_recambio Prioridad_por_volumen  \\\n",
       "0                   0           0              1                     3   \n",
       "2                   0           0              0                     4   \n",
       "\n",
       "   Prioridad_por_rubro  Tipo_Utilidad_Tecnologia  Q_tx_Aprob_UltM  \\\n",
       "0                    3                         1              831   \n",
       "2                    2                         1               68   \n",
       "\n",
       "   Q_tx_Rech_UltM Prop_Q_tx_Rech_UltM  Q_tx_Aprob_Ult15D  Q_tx_Rech_Ult15D  \\\n",
       "0              32              0.0371                436                17   \n",
       "2               2              0.0286                 68                 2   \n",
       "\n",
       "  Prop_Q_tx_Rech_Ult15D  Q_tx_Aprob_Ult10D  Q_tx_Rech_Ult10D  \\\n",
       "0                0.0375                297                 6   \n",
       "2                0.0286                 68                 2   \n",
       "\n",
       "  Prop_Q_tx_Rech_Ult10D  Q_tx_Aprob_Ult5D  Q_tx_Rech_Ult5D  \\\n",
       "0                0.0198               144                2   \n",
       "2                0.0286                13                0   \n",
       "\n",
       "  Prop_Q_tx_Rech_Ult5D  Q_tx_Aprob_Ult4D Prop_Q_tx_Rech_Ult4D  \\\n",
       "0               0.0137               127               0.0155   \n",
       "2               0.0000                 0               0.0000   \n",
       "\n",
       "   Q_tx_Aprob_Ult3D  Q_tx_Rech_Ult3D Prop_Q_tx_Rech_Ult3D  Q_tx_Aprob_Ult2D  \\\n",
       "0               111                2               0.0177                81   \n",
       "2                 0                0               0.0000                 0   \n",
       "\n",
       "  Prop_Q_tx_Rech_Ult2D  Q_tx_Aprob_UltD  Q_tx_Rech_UltD Prop_Q_tx_Rech_UltD  \\\n",
       "0               0.0241               48               0              0.0000   \n",
       "2               0.0000                0               0              0.0000   \n",
       "\n",
       "  Vol_tx_Aprob_UltM Vol_tx_Rech_UltM Prop_Vol_tx_Rech_UltM  \\\n",
       "0      2268673.0000       88370.0000            0.03749189   \n",
       "2        60498.0000        3215.0000            0.05046066   \n",
       "\n",
       "  Vol_tx_Aprob_Ult15D Vol_tx_Rech_Ult15D Prop_Vol_tx_Rech_Ult15D  \\\n",
       "0        1178055.0000         49750.0000              0.04051946   \n",
       "2          60498.0000          3215.0000              0.05046066   \n",
       "\n",
       "  Vol_tx_Aprob_Ult10D Vol_tx_Rech_Ult10D Prop_Vol_tx_Rech_Ult10D  \\\n",
       "0         818765.0000         17410.0000              0.02082100   \n",
       "2          60498.0000          3215.0000              0.05046066   \n",
       "\n",
       "  Vol_tx_Aprob_Ult5D Vol_tx_Rech_Ult5D Prop_Vol_tx_Rech_Ult5D  \\\n",
       "0        411729.0000         7500.0000             0.01788998   \n",
       "2         10931.0000            0.0000                   0E-8   \n",
       "\n",
       "  Vol_tx_Aprob_Ult4D Vol_tx_Rech_Ult4D Prop_Vol_tx_Rech_Ult4D  \\\n",
       "0        353879.0000         7500.0000             0.02075383   \n",
       "2             0.0000            0.0000                   0E-8   \n",
       "\n",
       "  Vol_tx_Aprob_Ult3D Vol_tx_Rech_Ult3D Prop_Vol_tx_Rech_Ult3D  \\\n",
       "0        320029.0000         7500.0000             0.02289874   \n",
       "2             0.0000            0.0000                   0E-8   \n",
       "\n",
       "  Vol_tx_Aprob_Ult2D Vol_tx_Rech_Ult2D Prop_Vol_tx_Rech_Ult2D  \\\n",
       "0        251779.0000         7500.0000             0.02892637   \n",
       "2             0.0000            0.0000                   0E-8   \n",
       "\n",
       "  Vol_tx_Aprob_UltD Vol_tx_Rech_UltD Prop_Vol_tx_Rech_UltD  Clase  \n",
       "0       150359.0000           0.0000                  0E-8      1  \n",
       "2            0.0000           0.0000                  0E-8      1  "
      ]
     },
     "execution_count": 25,
     "metadata": {},
     "output_type": "execute_result"
    }
   ],
   "source": [
    "df1.head(2)"
   ]
  },
  {
   "cell_type": "markdown",
   "metadata": {},
   "source": [
    "## One-Hot-Enconder"
   ]
  },
  {
   "cell_type": "code",
   "execution_count": null,
   "metadata": {},
   "outputs": [],
   "source": [
    "#from sklearn.preprocessing import OneHotEncoder"
   ]
  },
  {
   "cell_type": "code",
   "execution_count": null,
   "metadata": {},
   "outputs": [],
   "source": [
    "#df1= pd.get_dummies(df1, columns=[\"Tipo_inactividad\",\"serv_tecnico\",\"Provincia\",\"tipo_tecnologia\",\"estado_terminal\",\"superestado_terminal\",\"Modelo\",\"Plantilla_Origen\",\"Medio\",\"Condicion_Soft\",\"tipo_recambio\",\"Tipo_Utilidad_Tecnologia\"], drop_first=True)"
   ]
  },
  {
   "cell_type": "code",
   "execution_count": null,
   "metadata": {
    "scrolled": true
   },
   "outputs": [],
   "source": [
    "df1.head(5)"
   ]
  },
  {
   "cell_type": "code",
   "execution_count": null,
   "metadata": {},
   "outputs": [],
   "source": [
    "#ct = ColumnTransformer([('one-hot-encoder', OneHotEncoder(drop='first'), [\"Tipo_inactividad\",\"serv_tecnico\",\"Provincia\",\"Localidad\",\"tipo_tecnologia\",\"estado_terminal\",\"superestado_terminal\",\"CUIT_VIP\",\"Modelo\",\"Plantilla_Origen\",\"Version_Origen\",\"Medio\",\"Marca\",\"Condicion_Soft\",\"Segmento\",\"tipo_recambio\",\"Tipo_Utilidad_Tecnologia\"])], remainder='passthrough')\n",
    "#ct.fit_transform(df1) # No funciona muy bien"
   ]
  },
  {
   "cell_type": "code",
   "execution_count": null,
   "metadata": {},
   "outputs": [],
   "source": [
    "# Creo una instancia para One-hot-encoder\n",
    "# enc = OneHotEncoder(handle_unknown='ignore')\n",
    "#campos_no_numericos= [\"Tipo_inactividad\",\"serv_tecnico\",\"Provincia\",\"Localidad\",\"tipo_tecnologia\",\"estado_terminal\",\"superestado_terminal\",\"CUIT_VIP\",\"Modelo\",\"Plantilla_Origen\",\"Version_Origen\",\"Medio\",\"Marca\",\"Condicion_Soft\",\"Segmento\",\"tipo_recambio\",\"Tipo_Utilidad_Tecnologia\"]\n",
    "#df1[campos_no_numericos] = df1[campos_no_numericos].apply(OneHotEncoder(handle_unknown=\"ignore\").fit_transform)"
   ]
  },
  {
   "cell_type": "markdown",
   "metadata": {},
   "source": [
    "### Paso todo a numerico y reviso el formato (por las dudas)"
   ]
  },
  {
   "cell_type": "code",
   "execution_count": 26,
   "metadata": {},
   "outputs": [
    {
     "name": "stdout",
     "output_type": "stream",
     "text": [
      "Periodo                   float64\n",
      "Antiguedad                float64\n",
      "Tipo_inactividad          float64\n",
      "serv_tecnico              float64\n",
      "cod_rubro                 float64\n",
      "                           ...   \n",
      "Prop_Vol_tx_Rech_Ult2D    float64\n",
      "Vol_tx_Aprob_UltD         float64\n",
      "Vol_tx_Rech_UltD          float64\n",
      "Prop_Vol_tx_Rech_UltD     float64\n",
      "Clase                     float64\n",
      "Length: 82, dtype: object\n"
     ]
    }
   ],
   "source": [
    "df1= df1.astype('float64')\n",
    "dataTypeSeries = df1.dtypes\n",
    "print(dataTypeSeries)"
   ]
  },
  {
   "cell_type": "code",
   "execution_count": null,
   "metadata": {},
   "outputs": [],
   "source": [
    "#df1.to_csv(\"Chequeo.csv\", index=False, header=False)\n",
    "#df1.to_excel(\"Chek.xlsx\")"
   ]
  },
  {
   "cell_type": "markdown",
   "metadata": {},
   "source": [
    "### Grupo de Test & Entrenamientos"
   ]
  },
  {
   "cell_type": "code",
   "execution_count": 27,
   "metadata": {},
   "outputs": [],
   "source": [
    "from sklearn.model_selection import train_test_split\n",
    "df_train = df1[(df1['Periodo'] >= 202008) & (df1['Periodo'] <= 202102)]\n",
    "df_test = df1[(df1['Periodo'] >= 202103) & (df1['Periodo'] <= 202104)]"
   ]
  },
  {
   "cell_type": "markdown",
   "metadata": {},
   "source": [
    "### Variables X e Y: Test y Entrenamientos"
   ]
  },
  {
   "cell_type": "code",
   "execution_count": 28,
   "metadata": {},
   "outputs": [],
   "source": [
    "X_train=df_train.drop(columns=['Clase']).values\n",
    "X_test=df_test.drop(columns=['Clase']).values\n",
    "y_train = df_train[\"Clase\"].values\n",
    "y_test = df_test[\"Clase\"].values"
   ]
  },
  {
   "cell_type": "markdown",
   "metadata": {},
   "source": [
    "# Escalado de variables"
   ]
  },
  {
   "cell_type": "code",
   "execution_count": 376,
   "metadata": {},
   "outputs": [],
   "source": [
    "#from sklearn.preprocessing import StandardScaler\n",
    "#sc_X = StandardScaler()\n",
    "#X_train = sc_X.fit_transform(X_train)\n",
    "#X_test = sc_X.transform(X_test)"
   ]
  },
  {
   "cell_type": "markdown",
   "metadata": {},
   "source": [
    "# Reducir la dimensión del dataset con PCA"
   ]
  },
  {
   "cell_type": "code",
   "execution_count": null,
   "metadata": {},
   "outputs": [],
   "source": [
    "#from sklearn.decomposition import PCA"
   ]
  },
  {
   "cell_type": "code",
   "execution_count": null,
   "metadata": {},
   "outputs": [],
   "source": [
    "# Me quedo con los 40 principales elementos\n",
    "#pca = PCA(n_components = 60)\n",
    "#X_train = pca.fit_transform(X_train)\n",
    "#X_test = pca.transform(X_test)\n",
    "#explained_variance = pca.explained_variance_ratio_"
   ]
  },
  {
   "cell_type": "markdown",
   "metadata": {},
   "source": [
    "## CORRO EL MODELO"
   ]
  },
  {
   "cell_type": "code",
   "execution_count": 29,
   "metadata": {},
   "outputs": [
    {
     "name": "stderr",
     "output_type": "stream",
     "text": [
      "C:\\Users\\eeliano\\AnacondaNuevo\\lib\\site-packages\\xgboost\\sklearn.py:1146: UserWarning: The use of label encoder in XGBClassifier is deprecated and will be removed in a future release. To remove this warning, do the following: 1) Pass option use_label_encoder=False when constructing XGBClassifier object; and 2) Encode your labels (y) as integers starting with 0, i.e. 0, 1, 2, ..., [num_class - 1].\n",
      "  warnings.warn(label_encoder_deprecation_msg, UserWarning)\n"
     ]
    },
    {
     "name": "stdout",
     "output_type": "stream",
     "text": [
      "[11:02:15] WARNING: C:/Users/Administrator/workspace/xgboost-win64_release_1.4.0/src/learner.cc:1095: Starting in XGBoost 1.3.0, the default evaluation metric used with the objective 'binary:logistic' was changed from 'error' to 'logloss'. Explicitly set eval_metric if you'd like to restore the old behavior.\n"
     ]
    },
    {
     "data": {
      "text/plain": [
       "XGBClassifier(base_score=0.5, booster='gbtree', colsample_bylevel=1,\n",
       "              colsample_bynode=1, colsample_bytree=1, gamma=0, gpu_id=-1,\n",
       "              importance_type='gain', interaction_constraints='',\n",
       "              learning_rate=0.300000012, max_delta_step=0, max_depth=6,\n",
       "              min_child_weight=1, missing=nan, monotone_constraints='()',\n",
       "              n_estimators=100, n_jobs=8, num_parallel_tree=1, random_state=0,\n",
       "              reg_alpha=0, reg_lambda=1, scale_pos_weight=1, subsample=1,\n",
       "              tree_method='exact', validate_parameters=1, verbosity=None)"
      ]
     },
     "execution_count": 29,
     "metadata": {},
     "output_type": "execute_result"
    }
   ],
   "source": [
    "#from sklearn.linear_model import LogisticRegression\n",
    "#classifier = LogisticRegression(random_state = 0)\n",
    "#classifier.fit(X_train, y_train)\n",
    "classifier = XGBClassifier()\n",
    "classifier.fit(X_train, y_train)"
   ]
  },
  {
   "cell_type": "code",
   "execution_count": 30,
   "metadata": {
    "scrolled": false
   },
   "outputs": [
    {
     "name": "stdout",
     "output_type": "stream",
     "text": [
      "                                var       val\n",
      "19                 Plantilla_Origen  0.172715\n",
      "18                           Modelo  0.043146\n",
      "26            Operatoria_no_Newland  0.038916\n",
      "23                   Condicion_Soft  0.036601\n",
      "7                   tipo_tecnologia  0.026853\n",
      "21                            Medio  0.026066\n",
      "0                           Periodo  0.025835\n",
      "36                   Q_tx_Rech_UltM  0.025796\n",
      "32            Prioridad_por_volumen  0.023551\n",
      "35                  Q_tx_Aprob_UltM  0.022219\n",
      "57                Vol_tx_Aprob_UltM  0.021200\n",
      "20                   Version_Origen  0.018642\n",
      "3                      serv_tecnico  0.015459\n",
      "22                            Marca  0.014408\n",
      "24                         Segmento  0.013907\n",
      "15  Porcentaje_Bonificacion_Teorico  0.011180\n",
      "9                          CUIT_VIP  0.010768\n",
      "38                Q_tx_Aprob_Ult15D  0.010712\n",
      "5                         Provincia  0.010689\n",
      "2                  Tipo_inactividad  0.009870\n",
      "1                        Antiguedad  0.009777\n",
      "29               Adm_Visa_Argentina  0.009396\n",
      "60              Vol_tx_Aprob_Ult15D  0.009351\n",
      "27                       No_newland  0.009309\n",
      "28                       Adm_Posnet  0.009091\n",
      "41                Q_tx_Aprob_Ult10D  0.008823\n",
      "66               Vol_tx_Aprob_Ult5D  0.008505\n",
      "34         Tipo_Utilidad_Tecnologia  0.008327\n",
      "69               Vol_tx_Aprob_Ult4D  0.008164\n",
      "14        Facturacion_sin_descuento  0.007738\n",
      "17   Desc_Agrup_Reducida_Rubro_Bain  0.007737\n",
      "63              Vol_tx_Aprob_Ult10D  0.007467\n",
      "68           Prop_Vol_tx_Rech_Ult5D  0.007458\n",
      "72               Vol_tx_Aprob_Ult3D  0.007401\n",
      "49                 Q_tx_Aprob_Ult3D  0.007362\n",
      "37              Prop_Q_tx_Rech_UltM  0.007322\n",
      "62          Prop_Vol_tx_Rech_Ult15D  0.007305\n",
      "43            Prop_Q_tx_Rech_Ult10D  0.007269\n",
      "33              Prioridad_por_rubro  0.007251\n",
      "79                 Vol_tx_Rech_UltD  0.007213\n",
      "65          Prop_Vol_tx_Rech_Ult10D  0.007213\n",
      "47                 Q_tx_Aprob_Ult4D  0.007182\n",
      "67                Vol_tx_Rech_Ult5D  0.007112\n",
      "40            Prop_Q_tx_Rech_Ult15D  0.007060\n",
      "59            Prop_Vol_tx_Rech_UltM  0.007041\n",
      "78                Vol_tx_Aprob_UltD  0.007007\n",
      "76                Vol_tx_Rech_Ult2D  0.007001\n",
      "6                         Localidad  0.006905\n",
      "54                  Q_tx_Aprob_UltD  0.006878\n",
      "31                    tipo_recambio  0.006877\n",
      "11                    cod_plan_Ater  0.006846\n",
      "48             Prop_Q_tx_Rech_Ult4D  0.006831\n",
      "46             Prop_Q_tx_Rech_Ult5D  0.006787\n",
      "58                 Vol_tx_Rech_UltM  0.006786\n",
      "74           Prop_Vol_tx_Rech_Ult3D  0.006780\n",
      "12                    Cod_plan_host  0.006739\n",
      "16       Desc_Agrupacion_Rubro_Bain  0.006719\n",
      "39                 Q_tx_Rech_Ult15D  0.006641\n",
      "77           Prop_Vol_tx_Rech_Ult2D  0.006639\n",
      "75               Vol_tx_Aprob_Ult2D  0.006562\n",
      "64               Vol_tx_Rech_Ult10D  0.006466\n",
      "10               Acepta_liquidacion  0.006454\n",
      "71           Prop_Vol_tx_Rech_Ult4D  0.006432\n",
      "55                   Q_tx_Rech_UltD  0.006398\n",
      "52                 Q_tx_Aprob_Ult2D  0.006369\n",
      "4                         cod_rubro  0.006362\n",
      "61               Vol_tx_Rech_Ult15D  0.006204\n",
      "44                 Q_tx_Aprob_Ult5D  0.006178\n",
      "70                Vol_tx_Rech_Ult4D  0.005933\n",
      "8                        Banco_Visa  0.005852\n",
      "25       Sub_segmento_corporativo_2  0.005849\n",
      "13        Facturacion_con_descuento  0.005751\n",
      "51             Prop_Q_tx_Rech_Ult3D  0.005691\n",
      "73                Vol_tx_Rech_Ult3D  0.005667\n",
      "53             Prop_Q_tx_Rech_Ult2D  0.005666\n",
      "80            Prop_Vol_tx_Rech_UltD  0.005518\n",
      "56              Prop_Q_tx_Rech_UltD  0.005457\n",
      "45                  Q_tx_Rech_Ult5D  0.005018\n",
      "30                       Adm_Prisma  0.004878\n",
      "42                 Q_tx_Rech_Ult10D  0.004743\n",
      "50                  Q_tx_Rech_Ult3D  0.004706\n"
     ]
    }
   ],
   "source": [
    "valores=pd.Series(classifier.feature_importances_)\n",
    "columnas=pd.Series(df_train.drop(columns=[\"Clase\"]).columns)\n",
    "pd.set_option('display.max_rows', None)\n",
    "var_imp=pd.concat([columnas,valores],axis=1)\n",
    "var_imp.columns=['var','val']\n",
    "var_imp.sort_values(by='val',ascending=False,inplace=True)\n",
    "print(var_imp)\n",
    "pd.set_option('display.max_rows', 60)"
   ]
  },
  {
   "cell_type": "markdown",
   "metadata": {},
   "source": [
    "valores=pd.Series(classifier.feature_importances_)\n",
    "columnas=pd.Series(df_train.drop(columns=[\"Clase\"]).columns)\n",
    "pd.set_option('display.max_rows', None)\n",
    "var_imp=pd.concat([columnas,valores],axis=1)\n",
    "var_imp.columns=['var','val']\n",
    "var_imp.sort_values(by='val',ascending=False,inplace=True)\n",
    "print(var_imp)\n",
    "pd.set_option('display.max_rows', 58)"
   ]
  },
  {
   "cell_type": "code",
   "execution_count": 31,
   "metadata": {},
   "outputs": [
    {
     "name": "stderr",
     "output_type": "stream",
     "text": [
      "C:\\Users\\eeliano\\AnacondaNuevo\\lib\\site-packages\\xgboost\\data.py:112: UserWarning: Use subset (sliced data) of np.ndarray is not recommended because it will generate extra copies and increase memory consumption\n",
      "  warnings.warn(\n"
     ]
    }
   ],
   "source": [
    "y_pred  = classifier.predict(X_test)"
   ]
  },
  {
   "cell_type": "code",
   "execution_count": 32,
   "metadata": {},
   "outputs": [
    {
     "data": {
      "text/plain": [
       "0.49754983586279083"
      ]
     },
     "execution_count": 32,
     "metadata": {},
     "output_type": "execute_result"
    }
   ],
   "source": [
    "y_test.mean()"
   ]
  },
  {
   "cell_type": "code",
   "execution_count": 33,
   "metadata": {},
   "outputs": [
    {
     "data": {
      "text/plain": [
       "0.439269232599077"
      ]
     },
     "execution_count": 33,
     "metadata": {},
     "output_type": "execute_result"
    }
   ],
   "source": [
    "y_pred.mean()"
   ]
  },
  {
   "cell_type": "code",
   "execution_count": 34,
   "metadata": {},
   "outputs": [],
   "source": [
    "from sklearn.metrics import confusion_matrix\n",
    "cm = confusion_matrix(y_test, y_pred)"
   ]
  },
  {
   "cell_type": "code",
   "execution_count": 35,
   "metadata": {},
   "outputs": [
    {
     "data": {
      "text/plain": [
       "0.7060206820763107"
      ]
     },
     "execution_count": 35,
     "metadata": {},
     "output_type": "execute_result"
    }
   ],
   "source": [
    "from sklearn.metrics import roc_auc_score\n",
    "roc_auc_score(y_test,y_pred)"
   ]
  },
  {
   "cell_type": "code",
   "execution_count": 36,
   "metadata": {
    "scrolled": true
   },
   "outputs": [
    {
     "name": "stdout",
     "output_type": "stream",
     "text": [
      "Matriz de confusion del modelo es:\n",
      "[[8087 2474]\n",
      " [3699 6759]]\n",
      "Sensibilidad del modelo es de: 0.732\n",
      "Especificidad del modelo es de: 0.6862\n",
      "BA del modelo es de: 0.7091\n"
     ]
    }
   ],
   "source": [
    "def balanced_accuracy(cm):\n",
    "  sensibilidad = cm[1,1]/(cm[1,1]+cm[0,1])\n",
    "  especificidad = cm[0,0]/(cm[1,0]+cm[0,0])\n",
    "  return [sensibilidad, especificidad, (sensibilidad + especificidad)/2]\n",
    "\n",
    "metricas = balanced_accuracy(cm)\n",
    "\n",
    "print('Matriz de confusion del modelo es:')\n",
    "print(cm)\n",
    "print('Sensibilidad del modelo es de: {}'.format(round(metricas[0],4)))  \n",
    "print('Especificidad del modelo es de: {}'.format(round(metricas[1],4)))  \n",
    "print('BA del modelo es de: {}'.format(round(metricas[2],4)))"
   ]
  },
  {
   "cell_type": "code",
   "execution_count": 42,
   "metadata": {},
   "outputs": [
    {
     "name": "stderr",
     "output_type": "stream",
     "text": [
      "C:\\Users\\eeliano\\AnacondaNuevo\\lib\\site-packages\\xgboost\\sklearn.py:1146: UserWarning: The use of label encoder in XGBClassifier is deprecated and will be removed in a future release. To remove this warning, do the following: 1) Pass option use_label_encoder=False when constructing XGBClassifier object; and 2) Encode your labels (y) as integers starting with 0, i.e. 0, 1, 2, ..., [num_class - 1].\n",
      "  warnings.warn(label_encoder_deprecation_msg, UserWarning)\n"
     ]
    },
    {
     "name": "stdout",
     "output_type": "stream",
     "text": [
      "[12:04:59] WARNING: C:/Users/Administrator/workspace/xgboost-win64_release_1.4.0/src/learner.cc:1095: Starting in XGBoost 1.3.0, the default evaluation metric used with the objective 'binary:logistic' was changed from 'error' to 'logloss'. Explicitly set eval_metric if you'd like to restore the old behavior.\n"
     ]
    },
    {
     "name": "stderr",
     "output_type": "stream",
     "text": [
      "C:\\Users\\eeliano\\AnacondaNuevo\\lib\\site-packages\\xgboost\\sklearn.py:1146: UserWarning: The use of label encoder in XGBClassifier is deprecated and will be removed in a future release. To remove this warning, do the following: 1) Pass option use_label_encoder=False when constructing XGBClassifier object; and 2) Encode your labels (y) as integers starting with 0, i.e. 0, 1, 2, ..., [num_class - 1].\n",
      "  warnings.warn(label_encoder_deprecation_msg, UserWarning)\n"
     ]
    },
    {
     "name": "stdout",
     "output_type": "stream",
     "text": [
      "[12:05:07] WARNING: C:/Users/Administrator/workspace/xgboost-win64_release_1.4.0/src/learner.cc:1095: Starting in XGBoost 1.3.0, the default evaluation metric used with the objective 'binary:logistic' was changed from 'error' to 'logloss'. Explicitly set eval_metric if you'd like to restore the old behavior.\n"
     ]
    },
    {
     "name": "stderr",
     "output_type": "stream",
     "text": [
      "C:\\Users\\eeliano\\AnacondaNuevo\\lib\\site-packages\\xgboost\\sklearn.py:1146: UserWarning: The use of label encoder in XGBClassifier is deprecated and will be removed in a future release. To remove this warning, do the following: 1) Pass option use_label_encoder=False when constructing XGBClassifier object; and 2) Encode your labels (y) as integers starting with 0, i.e. 0, 1, 2, ..., [num_class - 1].\n",
      "  warnings.warn(label_encoder_deprecation_msg, UserWarning)\n"
     ]
    },
    {
     "name": "stdout",
     "output_type": "stream",
     "text": [
      "[12:05:14] WARNING: C:/Users/Administrator/workspace/xgboost-win64_release_1.4.0/src/learner.cc:1095: Starting in XGBoost 1.3.0, the default evaluation metric used with the objective 'binary:logistic' was changed from 'error' to 'logloss'. Explicitly set eval_metric if you'd like to restore the old behavior.\n"
     ]
    },
    {
     "data": {
      "text/plain": [
       "0.0022918077475354262"
      ]
     },
     "execution_count": 42,
     "metadata": {},
     "output_type": "execute_result"
    }
   ],
   "source": [
    "scores = cross_val_score(estimator = classifier, X = X_train, y = y_train, cv = 3, scoring='roc_auc')\n",
    "scores.std()"
   ]
  },
  {
   "cell_type": "code",
   "execution_count": 43,
   "metadata": {},
   "outputs": [
    {
     "data": {
      "text/plain": [
       "0.7402856731426063"
      ]
     },
     "execution_count": 43,
     "metadata": {},
     "output_type": "execute_result"
    }
   ],
   "source": [
    "scores.mean()"
   ]
  },
  {
   "cell_type": "code",
   "execution_count": null,
   "metadata": {},
   "outputs": [],
   "source": []
  }
 ],
 "metadata": {
  "kernelspec": {
   "display_name": "Python 3",
   "language": "python",
   "name": "python3"
  },
  "language_info": {
   "codemirror_mode": {
    "name": "ipython",
    "version": 3
   },
   "file_extension": ".py",
   "mimetype": "text/x-python",
   "name": "python",
   "nbconvert_exporter": "python",
   "pygments_lexer": "ipython3",
   "version": "3.8.5"
  }
 },
 "nbformat": 4,
 "nbformat_minor": 4
}
